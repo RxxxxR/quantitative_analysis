{
 "cells": [
  {
   "cell_type": "code",
   "execution_count": 1,
   "metadata": {},
   "outputs": [
    {
     "name": "stdout",
     "output_type": "stream",
     "text": [
      "Collecting tushare\n",
      "  Downloading tushare-1.2.67-py3-none-any.whl (129 kB)\n",
      "\u001b[K     |████████████████████████████████| 129 kB 133 kB/s \n",
      "\u001b[?25hRequirement already satisfied: pandas in /Users/pangjianqiang/.local/lib/python3.8/site-packages (from tushare) (0.25.3)\n",
      "Requirement already satisfied: bs4 in /Users/pangjianqiang/miniforge3/envs/py38/lib/python3.8/site-packages (from tushare) (0.0.1)\n",
      "Collecting simplejson\n",
      "  Downloading simplejson-3.17.5-cp38-cp38-macosx_11_0_arm64.whl (73 kB)\n",
      "\u001b[K     |████████████████████████████████| 73 kB 71 kB/s \n",
      "\u001b[?25hRequirement already satisfied: requests in /Users/pangjianqiang/.local/lib/python3.8/site-packages (from tushare) (2.25.1)\n",
      "Collecting lxml\n",
      "  Downloading lxml-4.6.3.tar.gz (3.2 MB)\n",
      "\u001b[K     |████████████████████████████████| 3.2 MB 8.2 kB/s \n",
      "\u001b[?25hCollecting websocket-client>=0.57.0\n",
      "  Downloading websocket_client-1.2.1-py2.py3-none-any.whl (52 kB)\n",
      "\u001b[K     |████████████████████████████████| 52 kB 13 kB/s \n",
      "\u001b[?25hRequirement already satisfied: numpy>=1.13.3 in /Users/pangjianqiang/miniforge3/envs/py38/lib/python3.8/site-packages (from pandas->tushare) (1.20.1)\n",
      "Requirement already satisfied: pytz>=2017.2 in /Users/pangjianqiang/.local/lib/python3.8/site-packages (from pandas->tushare) (2021.1)\n",
      "Requirement already satisfied: python-dateutil>=2.6.1 in /Users/pangjianqiang/.local/lib/python3.8/site-packages (from pandas->tushare) (2.8.1)\n",
      "Requirement already satisfied: beautifulsoup4 in /Users/pangjianqiang/miniforge3/envs/py38/lib/python3.8/site-packages (from bs4->tushare) (4.9.3)\n",
      "Requirement already satisfied: certifi>=2017.4.17 in /Users/pangjianqiang/miniforge3/envs/py38/lib/python3.8/site-packages (from requests->tushare) (2020.12.5)\n",
      "Requirement already satisfied: idna<3,>=2.5 in /Users/pangjianqiang/.local/lib/python3.8/site-packages (from requests->tushare) (2.10)\n",
      "Requirement already satisfied: urllib3<1.27,>=1.21.1 in /Users/pangjianqiang/.local/lib/python3.8/site-packages (from requests->tushare) (1.26.4)\n",
      "Requirement already satisfied: chardet<5,>=3.0.2 in /Users/pangjianqiang/.local/lib/python3.8/site-packages (from requests->tushare) (4.0.0)\n",
      "Requirement already satisfied: six>=1.5 in /Users/pangjianqiang/miniforge3/envs/py38/lib/python3.8/site-packages (from python-dateutil>=2.6.1->pandas->tushare) (1.15.0)\n",
      "Requirement already satisfied: soupsieve>1.2; python_version >= \"3.0\" in /Users/pangjianqiang/miniforge3/envs/py38/lib/python3.8/site-packages (from beautifulsoup4->bs4->tushare) (2.2.1)\n",
      "Building wheels for collected packages: lxml\n",
      "  Building wheel for lxml (setup.py) ... \u001b[?25ldone\n",
      "\u001b[?25h  Created wheel for lxml: filename=lxml-4.6.3-cp38-cp38-macosx_11_0_arm64.whl size=1471464 sha256=e5ced2038e72800df5b8ecd39a07cd86e8e44b32ec66057873b4001869fb3141\n",
      "  Stored in directory: /Users/pangjianqiang/Library/Caches/pip/wheels/d3/4b/8d/471241f6711106f3a02642e3fbd41ee7302225b502eccfa285\n",
      "Successfully built lxml\n",
      "Installing collected packages: simplejson, lxml, websocket-client, tushare\n",
      "Successfully installed lxml-4.6.3 simplejson-3.17.5 tushare-1.2.67 websocket-client-1.2.1\n"
     ]
    }
   ],
   "source": [
    "#安装数据获取的api\n",
    "!pip install tushare"
   ]
  },
  {
   "cell_type": "code",
   "execution_count": 14,
   "metadata": {},
   "outputs": [],
   "source": [
    "import tushare as ts\n",
    "ts.set_token('your token here')\n",
    "\n",
    "pro = ts.pro_api()\n",
    "\n",
    "df = pro.daily(ts_code='000001.SZ', start_date='20180701', end_date='20211022')\n"
   ]
  },
  {
   "cell_type": "code",
   "execution_count": 18,
   "metadata": {},
   "outputs": [
    {
     "data": {
      "text/plain": "pandas.core.frame.DataFrame"
     },
     "execution_count": 18,
     "metadata": {},
     "output_type": "execute_result"
    }
   ],
   "source": [
    "type(df)"
   ]
  },
  {
   "cell_type": "code",
   "execution_count": 15,
   "metadata": {},
   "outputs": [
    {
     "data": {
      "text/html": "<div>\n<style scoped>\n    .dataframe tbody tr th:only-of-type {\n        vertical-align: middle;\n    }\n\n    .dataframe tbody tr th {\n        vertical-align: top;\n    }\n\n    .dataframe thead th {\n        text-align: right;\n    }\n</style>\n<table border=\"1\" class=\"dataframe\">\n  <thead>\n    <tr style=\"text-align: right;\">\n      <th></th>\n      <th>ts_code</th>\n      <th>trade_date</th>\n      <th>open</th>\n      <th>high</th>\n      <th>low</th>\n      <th>close</th>\n      <th>pre_close</th>\n      <th>change</th>\n      <th>pct_chg</th>\n      <th>vol</th>\n      <th>amount</th>\n    </tr>\n  </thead>\n  <tbody>\n    <tr>\n      <th>0</th>\n      <td>000001.SZ</td>\n      <td>20211022</td>\n      <td>20.16</td>\n      <td>20.59</td>\n      <td>19.80</td>\n      <td>20.04</td>\n      <td>20.00</td>\n      <td>0.04</td>\n      <td>0.2000</td>\n      <td>1134963.63</td>\n      <td>2287284.921</td>\n    </tr>\n    <tr>\n      <th>1</th>\n      <td>000001.SZ</td>\n      <td>20211021</td>\n      <td>19.52</td>\n      <td>20.06</td>\n      <td>19.25</td>\n      <td>20.00</td>\n      <td>19.24</td>\n      <td>0.76</td>\n      <td>3.9501</td>\n      <td>1621661.01</td>\n      <td>3198266.215</td>\n    </tr>\n    <tr>\n      <th>2</th>\n      <td>000001.SZ</td>\n      <td>20211020</td>\n      <td>19.75</td>\n      <td>19.78</td>\n      <td>19.19</td>\n      <td>19.24</td>\n      <td>19.57</td>\n      <td>-0.33</td>\n      <td>-1.6863</td>\n      <td>662955.55</td>\n      <td>1283356.219</td>\n    </tr>\n    <tr>\n      <th>3</th>\n      <td>000001.SZ</td>\n      <td>20211019</td>\n      <td>19.15</td>\n      <td>19.68</td>\n      <td>19.15</td>\n      <td>19.57</td>\n      <td>19.29</td>\n      <td>0.28</td>\n      <td>1.4515</td>\n      <td>682415.15</td>\n      <td>1330501.301</td>\n    </tr>\n    <tr>\n      <th>4</th>\n      <td>000001.SZ</td>\n      <td>20211018</td>\n      <td>19.45</td>\n      <td>19.55</td>\n      <td>19.10</td>\n      <td>19.29</td>\n      <td>19.66</td>\n      <td>-0.37</td>\n      <td>-1.8820</td>\n      <td>729622.50</td>\n      <td>1408737.777</td>\n    </tr>\n  </tbody>\n</table>\n</div>",
      "text/plain": "     ts_code trade_date   open   high    low  close  pre_close  change  \\\n0  000001.SZ   20211022  20.16  20.59  19.80  20.04      20.00    0.04   \n1  000001.SZ   20211021  19.52  20.06  19.25  20.00      19.24    0.76   \n2  000001.SZ   20211020  19.75  19.78  19.19  19.24      19.57   -0.33   \n3  000001.SZ   20211019  19.15  19.68  19.15  19.57      19.29    0.28   \n4  000001.SZ   20211018  19.45  19.55  19.10  19.29      19.66   -0.37   \n\n   pct_chg         vol       amount  \n0   0.2000  1134963.63  2287284.921  \n1   3.9501  1621661.01  3198266.215  \n2  -1.6863   662955.55  1283356.219  \n3   1.4515   682415.15  1330501.301  \n4  -1.8820   729622.50  1408737.777  "
     },
     "execution_count": 15,
     "metadata": {},
     "output_type": "execute_result"
    }
   ],
   "source": [
    "df.head()"
   ]
  },
  {
   "cell_type": "code",
   "execution_count": 16,
   "metadata": {},
   "outputs": [
    {
     "data": {
      "text/html": "<div>\n<style scoped>\n    .dataframe tbody tr th:only-of-type {\n        vertical-align: middle;\n    }\n\n    .dataframe tbody tr th {\n        vertical-align: top;\n    }\n\n    .dataframe thead th {\n        text-align: right;\n    }\n</style>\n<table border=\"1\" class=\"dataframe\">\n  <thead>\n    <tr style=\"text-align: right;\">\n      <th></th>\n      <th>ts_code</th>\n      <th>trade_date</th>\n      <th>open</th>\n      <th>high</th>\n      <th>low</th>\n      <th>close</th>\n      <th>pre_close</th>\n      <th>change</th>\n      <th>pct_chg</th>\n      <th>vol</th>\n      <th>amount</th>\n    </tr>\n  </thead>\n  <tbody>\n    <tr>\n      <th>799</th>\n      <td>000001.SZ</td>\n      <td>20180706</td>\n      <td>8.61</td>\n      <td>8.78</td>\n      <td>8.45</td>\n      <td>8.66</td>\n      <td>8.60</td>\n      <td>0.06</td>\n      <td>0.70</td>\n      <td>988282.69</td>\n      <td>852071.526</td>\n    </tr>\n    <tr>\n      <th>800</th>\n      <td>000001.SZ</td>\n      <td>20180705</td>\n      <td>8.62</td>\n      <td>8.73</td>\n      <td>8.55</td>\n      <td>8.60</td>\n      <td>8.61</td>\n      <td>-0.01</td>\n      <td>-0.12</td>\n      <td>835768.77</td>\n      <td>722169.579</td>\n    </tr>\n    <tr>\n      <th>801</th>\n      <td>000001.SZ</td>\n      <td>20180704</td>\n      <td>8.63</td>\n      <td>8.75</td>\n      <td>8.61</td>\n      <td>8.61</td>\n      <td>8.67</td>\n      <td>-0.06</td>\n      <td>-0.69</td>\n      <td>711153.37</td>\n      <td>617278.559</td>\n    </tr>\n    <tr>\n      <th>802</th>\n      <td>000001.SZ</td>\n      <td>20180703</td>\n      <td>8.69</td>\n      <td>8.70</td>\n      <td>8.45</td>\n      <td>8.67</td>\n      <td>8.61</td>\n      <td>0.06</td>\n      <td>0.70</td>\n      <td>1274838.57</td>\n      <td>1096657.033</td>\n    </tr>\n    <tr>\n      <th>803</th>\n      <td>000001.SZ</td>\n      <td>20180702</td>\n      <td>9.05</td>\n      <td>9.05</td>\n      <td>8.55</td>\n      <td>8.61</td>\n      <td>9.09</td>\n      <td>-0.48</td>\n      <td>-5.28</td>\n      <td>1315520.13</td>\n      <td>1158545.868</td>\n    </tr>\n  </tbody>\n</table>\n</div>",
      "text/plain": "       ts_code trade_date  open  high   low  close  pre_close  change  \\\n799  000001.SZ   20180706  8.61  8.78  8.45   8.66       8.60    0.06   \n800  000001.SZ   20180705  8.62  8.73  8.55   8.60       8.61   -0.01   \n801  000001.SZ   20180704  8.63  8.75  8.61   8.61       8.67   -0.06   \n802  000001.SZ   20180703  8.69  8.70  8.45   8.67       8.61    0.06   \n803  000001.SZ   20180702  9.05  9.05  8.55   8.61       9.09   -0.48   \n\n     pct_chg         vol       amount  \n799     0.70   988282.69   852071.526  \n800    -0.12   835768.77   722169.579  \n801    -0.69   711153.37   617278.559  \n802     0.70  1274838.57  1096657.033  \n803    -5.28  1315520.13  1158545.868  "
     },
     "execution_count": 16,
     "metadata": {},
     "output_type": "execute_result"
    }
   ],
   "source": [
    "df.tail()"
   ]
  },
  {
   "cell_type": "code",
   "execution_count": 11,
   "metadata": {},
   "outputs": [],
   "source": [
    "#多个股票\n",
    "df = pro.daily(ts_code='000001.SZ,600000.SH', start_date='20180701', end_date='20180718')"
   ]
  },
  {
   "cell_type": "code",
   "execution_count": 9,
   "metadata": {},
   "outputs": [],
   "source": [
    "df = pro.query('daily', ts_code='000001.SZ', start_date='20180701', end_date='20211022')"
   ]
  },
  {
   "cell_type": "code",
   "execution_count": 23,
   "metadata": {},
   "outputs": [],
   "source": [
    "df = pro.query('daily', adj = 'qfq', ts_code='000001.SZ', start_date='20210701', end_date='20211022')"
   ]
  },
  {
   "cell_type": "code",
   "execution_count": 24,
   "metadata": {},
   "outputs": [
    {
     "data": {
      "text/html": "<div>\n<style scoped>\n    .dataframe tbody tr th:only-of-type {\n        vertical-align: middle;\n    }\n\n    .dataframe tbody tr th {\n        vertical-align: top;\n    }\n\n    .dataframe thead th {\n        text-align: right;\n    }\n</style>\n<table border=\"1\" class=\"dataframe\">\n  <thead>\n    <tr style=\"text-align: right;\">\n      <th></th>\n      <th>ts_code</th>\n      <th>trade_date</th>\n      <th>open</th>\n      <th>high</th>\n      <th>low</th>\n      <th>close</th>\n      <th>pre_close</th>\n      <th>change</th>\n      <th>pct_chg</th>\n      <th>vol</th>\n      <th>amount</th>\n    </tr>\n  </thead>\n  <tbody>\n    <tr>\n      <th>0</th>\n      <td>000001.SZ</td>\n      <td>20211022</td>\n      <td>20.16</td>\n      <td>20.59</td>\n      <td>19.80</td>\n      <td>20.04</td>\n      <td>20.00</td>\n      <td>0.04</td>\n      <td>0.2000</td>\n      <td>1134963.63</td>\n      <td>2287284.921</td>\n    </tr>\n    <tr>\n      <th>1</th>\n      <td>000001.SZ</td>\n      <td>20211021</td>\n      <td>19.52</td>\n      <td>20.06</td>\n      <td>19.25</td>\n      <td>20.00</td>\n      <td>19.24</td>\n      <td>0.76</td>\n      <td>3.9501</td>\n      <td>1621661.01</td>\n      <td>3198266.215</td>\n    </tr>\n    <tr>\n      <th>2</th>\n      <td>000001.SZ</td>\n      <td>20211020</td>\n      <td>19.75</td>\n      <td>19.78</td>\n      <td>19.19</td>\n      <td>19.24</td>\n      <td>19.57</td>\n      <td>-0.33</td>\n      <td>-1.6863</td>\n      <td>662955.55</td>\n      <td>1283356.219</td>\n    </tr>\n    <tr>\n      <th>3</th>\n      <td>000001.SZ</td>\n      <td>20211019</td>\n      <td>19.15</td>\n      <td>19.68</td>\n      <td>19.15</td>\n      <td>19.57</td>\n      <td>19.29</td>\n      <td>0.28</td>\n      <td>1.4515</td>\n      <td>682415.15</td>\n      <td>1330501.301</td>\n    </tr>\n    <tr>\n      <th>4</th>\n      <td>000001.SZ</td>\n      <td>20211018</td>\n      <td>19.45</td>\n      <td>19.55</td>\n      <td>19.10</td>\n      <td>19.29</td>\n      <td>19.66</td>\n      <td>-0.37</td>\n      <td>-1.8820</td>\n      <td>729622.50</td>\n      <td>1408737.777</td>\n    </tr>\n  </tbody>\n</table>\n</div>",
      "text/plain": "     ts_code trade_date   open   high    low  close  pre_close  change  \\\n0  000001.SZ   20211022  20.16  20.59  19.80  20.04      20.00    0.04   \n1  000001.SZ   20211021  19.52  20.06  19.25  20.00      19.24    0.76   \n2  000001.SZ   20211020  19.75  19.78  19.19  19.24      19.57   -0.33   \n3  000001.SZ   20211019  19.15  19.68  19.15  19.57      19.29    0.28   \n4  000001.SZ   20211018  19.45  19.55  19.10  19.29      19.66   -0.37   \n\n   pct_chg         vol       amount  \n0   0.2000  1134963.63  2287284.921  \n1   3.9501  1621661.01  3198266.215  \n2  -1.6863   662955.55  1283356.219  \n3   1.4515   682415.15  1330501.301  \n4  -1.8820   729622.50  1408737.777  "
     },
     "execution_count": 24,
     "metadata": {},
     "output_type": "execute_result"
    }
   ],
   "source": [
    "df.head()"
   ]
  }
 ],
 "metadata": {
  "kernelspec": {
   "display_name": "Python 3",
   "language": "python",
   "name": "python3"
  },
  "language_info": {
   "codemirror_mode": {
    "name": "ipython",
    "version": 3
   },
   "file_extension": ".py",
   "mimetype": "text/x-python",
   "name": "python",
   "nbconvert_exporter": "python",
   "pygments_lexer": "ipython3",
   "version": "3.8.8"
  },
  "orig_nbformat": 2
 },
 "nbformat": 4,
 "nbformat_minor": 2
}